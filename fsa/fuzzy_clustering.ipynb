{
 "worksheets": [
  {
   "cells": [
    {
     "cell_type": "heading",
     "metadata": {},
     "level": 1,
     "source": [
      "Алгоритм нечеткой кластеризации в дистрибутивной семантике"
     ]
    },
    {
     "cell_type": "markdown",
     "metadata": {},
     "source": [
      "Программа демонстрирует применение алгоритма нечеткой кластеризации c-means (FCM) для группировки слов, которые встречаются в одном контексте повествования. Слова представляются с помощью векторов низкой размерности, полученных в результате работы нейросетевого алгоритма дистрибутивной семантики word2vec."
     ]
    },
    {
     "cell_type": "code",
     "execution_count": null,
     "metadata": {},
     "outputs": [],
     "input": [
      ""
     ],
     "language": "python"
    }
   ]
  }
 ],
 "cells": [],
 "metadata": {},
 "nbformat": 3,
 "nbformat_minor": 0
}